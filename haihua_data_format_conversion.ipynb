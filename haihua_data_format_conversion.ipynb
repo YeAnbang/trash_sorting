{
 "cells": [
  {
   "cell_type": "code",
   "execution_count": 1,
   "id": "f5425e7e",
   "metadata": {},
   "outputs": [],
   "source": [
    "import json\n",
    "import glob"
   ]
  },
  {
   "cell_type": "code",
   "execution_count": 2,
   "id": "153d19cf",
   "metadata": {},
   "outputs": [
    {
     "name": "stdout",
     "output_type": "stream",
     "text": [
      "Looking in indexes: https://pypi.org/simple, https://pypi.ngc.nvidia.com\r\n",
      "Requirement already satisfied: imagesize in /home/anbang/anaconda3/envs/pytorch/lib/python3.8/site-packages (1.4.1)\r\n"
     ]
    }
   ],
   "source": [
    "!pip install imagesize"
   ]
  },
  {
   "cell_type": "code",
   "execution_count": 20,
   "id": "e0550044",
   "metadata": {},
   "outputs": [],
   "source": [
    "import os\n",
    "#base_dir = '/media/anbang/Crucial X6/haihua_garbage_dataset/complex_open_data/train/images/datasets/coco/train2017/'\n",
    "base_dir = '/media/anbang/Crucial X6/haihua_garbage_dataset/single_data/images_withoutrect/'\n",
    "annotation_files = glob.glob(base_dir+'images_withoutrect/*.json')\n",
    "annotated_images = [s.replace('.json','.png') for s in annotation_files]\n",
    "all_images = list(set(glob.glob(base_dir+'images_withoutrect/*'))-set(annotation_files))\n"
   ]
  },
  {
   "cell_type": "code",
   "execution_count": 21,
   "id": "c4e8a966",
   "metadata": {},
   "outputs": [
    {
     "name": "stdout",
     "output_type": "stream",
     "text": [
      "19990 19990 20000\n"
     ]
    }
   ],
   "source": [
    "print(len(annotation_files),len(annotated_images),len(all_images))"
   ]
  },
  {
   "cell_type": "code",
   "execution_count": 22,
   "id": "a73cb765",
   "metadata": {},
   "outputs": [],
   "source": [
    "import imagesize\n",
    "import tqdm"
   ]
  },
  {
   "cell_type": "code",
   "execution_count": null,
   "id": "1da84743",
   "metadata": {},
   "outputs": [],
   "source": []
  },
  {
   "cell_type": "code",
   "execution_count": 23,
   "id": "1a0917ef",
   "metadata": {},
   "outputs": [
    {
     "name": "stderr",
     "output_type": "stream",
     "text": [
      "100%|████████████████████████████████████| 19990/19990 [01:11<00:00, 278.43it/s]\n"
     ]
    }
   ],
   "source": [
    "from collections import defaultdict\n",
    "\n",
    "annotation_seg = defaultdict(list)\n",
    "cnt=0\n",
    "segment_statistics = defaultdict(int)\n",
    "for annotation_file in tqdm.tqdm(annotation_files):\n",
    "    with open(annotation_file, 'r') as f:\n",
    "        annotation = json.load(f)\n",
    "        #print(annotation)\n",
    "        for item in annotation:\n",
    "            width, height = imagesize.get(base_dir+'images_withoutrect/%s'%item['filename'])\n",
    "            segment_statistics[len(item['segmentation'])]+=1\n",
    "            if len(item['segmentation'])>1:\n",
    "                continue\n",
    "            for region in range(len(item['segmentation'])):\n",
    "                annotation_seg[item['filename']].append({'segmentation':[t/(width if i%2==0 else height) for i,t in enumerate(item['segmentation'][region])],'bbox':item['bbox']})\n",
    "        "
   ]
  },
  {
   "cell_type": "code",
   "execution_count": 24,
   "id": "856ca8e6",
   "metadata": {},
   "outputs": [
    {
     "data": {
      "text/plain": [
       "defaultdict(int,\n",
       "            {2: 918,\n",
       "             1: 21875,\n",
       "             3: 293,\n",
       "             4: 129,\n",
       "             5: 49,\n",
       "             17: 1,\n",
       "             9: 6,\n",
       "             6: 21,\n",
       "             7: 15,\n",
       "             8: 2,\n",
       "             10: 3,\n",
       "             11: 1})"
      ]
     },
     "execution_count": 24,
     "metadata": {},
     "output_type": "execute_result"
    }
   ],
   "source": [
    "segment_statistics"
   ]
  },
  {
   "cell_type": "code",
   "execution_count": 31,
   "id": "f7dc1ac9",
   "metadata": {},
   "outputs": [
    {
     "data": {
      "text/plain": [
       "19313"
      ]
     },
     "execution_count": 31,
     "metadata": {},
     "output_type": "execute_result"
    }
   ],
   "source": [
    "len(annotation_seg)"
   ]
  },
  {
   "cell_type": "code",
   "execution_count": 33,
   "id": "e0527b97",
   "metadata": {},
   "outputs": [],
   "source": [
    "with open('./buffed_annotation.json', 'w') as f:\n",
    "    json.dump(annotation_seg,f)"
   ]
  },
  {
   "cell_type": "code",
   "execution_count": 34,
   "id": "ef81d276",
   "metadata": {},
   "outputs": [
    {
     "name": "stdout",
     "output_type": "stream",
     "text": [
      "4853\n"
     ]
    },
    {
     "ename": "KeyError",
     "evalue": "'0a224fad7309.png'",
     "output_type": "error",
     "traceback": [
      "\u001b[0;31m---------------------------------------------------------------------------\u001b[0m",
      "\u001b[0;31mKeyError\u001b[0m                                  Traceback (most recent call last)",
      "\u001b[0;32m/tmp/ipykernel_25506/1000915167.py\u001b[0m in \u001b[0;36m<module>\u001b[0;34m\u001b[0m\n\u001b[1;32m      4\u001b[0m \u001b[0mprint\u001b[0m\u001b[0;34m(\u001b[0m\u001b[0mlen\u001b[0m\u001b[0;34m(\u001b[0m\u001b[0mannotation_seg\u001b[0m\u001b[0;34m)\u001b[0m\u001b[0;34m)\u001b[0m\u001b[0;34m\u001b[0m\u001b[0;34m\u001b[0m\u001b[0m\n\u001b[1;32m      5\u001b[0m \u001b[0;31m#print(annotation_seg.keys())\u001b[0m\u001b[0;34m\u001b[0m\u001b[0;34m\u001b[0m\u001b[0;34m\u001b[0m\u001b[0m\n\u001b[0;32m----> 6\u001b[0;31m \u001b[0mprint\u001b[0m\u001b[0;34m(\u001b[0m\u001b[0mannotation_seg\u001b[0m\u001b[0;34m[\u001b[0m\u001b[0;34m'0a224fad7309.png'\u001b[0m\u001b[0;34m]\u001b[0m\u001b[0;34m)\u001b[0m\u001b[0;34m\u001b[0m\u001b[0;34m\u001b[0m\u001b[0m\n\u001b[0m",
      "\u001b[0;31mKeyError\u001b[0m: '0a224fad7309.png'"
     ]
    }
   ],
   "source": [
    "with open('./buffed_annotation.json', 'r') as f:\n",
    "    annotation_seg = json.load(f)\n",
    "\n",
    "print(len(annotation_seg))\n",
    "#print(annotation_seg.keys())\n",
    "print(annotation_seg['0a224fad7309.png'])"
   ]
  },
  {
   "cell_type": "code",
   "execution_count": null,
   "id": "e60e83c5",
   "metadata": {},
   "outputs": [],
   "source": []
  },
  {
   "cell_type": "code",
   "execution_count": 25,
   "id": "2490b929",
   "metadata": {},
   "outputs": [],
   "source": [
    "with open(base_dir+'/train.json', 'r') as f:\n",
    "    annotation_haihua = json.load(f)\n"
   ]
  },
  {
   "cell_type": "code",
   "execution_count": 26,
   "id": "0e94c537",
   "metadata": {},
   "outputs": [
    {
     "name": "stdout",
     "output_type": "stream",
     "text": [
      "dict_keys(['info', 'lincenses', 'images', 'type', 'annotations', 'categories'])\n",
      "80000\n",
      "{'area': 81909.20209190401, 'iscrowd': 0, 'image_id': 11003, 'bbox': [636.08832, 305.77176, 298.5888, 274.32108000000005], 'category_id': 2}\n",
      "80000\n",
      "{'file_name': 'images_withoutrect/11003.png', 'height': 1080, 'width': 1920, 'image_id': 11003}\n"
     ]
    }
   ],
   "source": [
    "print(annotation_haihua.keys())\n",
    "print(len(annotation_haihua['annotations']))\n",
    "print(annotation_haihua['annotations'][0])\n",
    "print(len(annotation_haihua['images']))\n",
    "print(annotation_haihua['images'][0])\n",
    "file_name_to_image_id = {}\n",
    "for im_info in annotation_haihua['images']:\n",
    "    file_name_to_image_id[im_info['file_name'].split('/')[-1]]=im_info['image_id']\n",
    "    \n",
    "image_id_to_objects = defaultdict(list)\n",
    "for anno_info in annotation_haihua['annotations']:\n",
    "    image_id_to_objects[anno_info['image_id']].append(anno_info)\n",
    "    \n"
   ]
  },
  {
   "cell_type": "code",
   "execution_count": 27,
   "id": "fc47ea08",
   "metadata": {},
   "outputs": [],
   "source": [
    "def get_iou(bb1, bb2):\n",
    "    \"\"\"\n",
    "    Calculate the Intersection over Union (IoU) of two bounding boxes.\n",
    "\n",
    "    Parameters\n",
    "    ----------\n",
    "    bb1 : dict\n",
    "        Keys: {'x1', 'x2', 'y1', 'y2'}\n",
    "        The (x1, y1) position is at the top left corner,\n",
    "        the (x2, y2) position is at the bottom right corner\n",
    "    bb2 : dict\n",
    "        Keys: {'x1', 'x2', 'y1', 'y2'}\n",
    "        The (x, y) position is at the top left corner,\n",
    "        the (x2, y2) position is at the bottom right corner\n",
    "\n",
    "    Returns\n",
    "    -------\n",
    "    float\n",
    "        in [0, 1]\n",
    "    \"\"\"\n",
    "    assert bb1['x1'] < bb1['x2']\n",
    "    assert bb1['y1'] < bb1['y2']\n",
    "    assert bb2['x1'] < bb2['x2']\n",
    "    assert bb2['y1'] < bb2['y2']\n",
    "\n",
    "    # determine the coordinates of the intersection rectangle\n",
    "    x_left = max(bb1['x1'], bb2['x1'])\n",
    "    y_top = max(bb1['y1'], bb2['y1'])\n",
    "    x_right = min(bb1['x2'], bb2['x2'])\n",
    "    y_bottom = min(bb1['y2'], bb2['y2'])\n",
    "\n",
    "    if x_right < x_left or y_bottom < y_top:\n",
    "        return 0.0\n",
    "\n",
    "    # The intersection of two axis-aligned bounding boxes is always an\n",
    "    # axis-aligned bounding box\n",
    "    intersection_area = (x_right - x_left) * (y_bottom - y_top)\n",
    "\n",
    "    # compute the area of both AABBs\n",
    "    bb1_area = (bb1['x2'] - bb1['x1']) * (bb1['y2'] - bb1['y1'])\n",
    "    bb2_area = (bb2['x2'] - bb2['x1']) * (bb2['y2'] - bb2['y1'])\n",
    "\n",
    "    # compute the intersection over union by taking the intersection\n",
    "    # area and dividing it by the sum of prediction + ground-truth\n",
    "    # areas - the interesection area\n",
    "    iou = intersection_area / float(bb1_area + bb2_area - intersection_area)\n",
    "    assert iou >= 0.0\n",
    "    assert iou <= 1.0\n",
    "    return iou"
   ]
  },
  {
   "cell_type": "code",
   "execution_count": 28,
   "id": "27585af6",
   "metadata": {},
   "outputs": [
    {
     "name": "stderr",
     "output_type": "stream",
     "text": [
      "100%|██████████████████████████████████| 19313/19313 [00:00<00:00, 22365.23it/s]"
     ]
    },
    {
     "name": "stdout",
     "output_type": "stream",
     "text": [
      "found items: 17732\n",
      "fail to find: 1581\n"
     ]
    },
    {
     "name": "stderr",
     "output_type": "stream",
     "text": [
      "\n"
     ]
    }
   ],
   "source": [
    "total = 0\n",
    "found = 0\n",
    "import copy\n",
    "to_write = {}\n",
    "category_statistics = defaultdict(int)\n",
    "for file_name in tqdm.tqdm(annotation_seg.keys()):\n",
    "    #print(file_name)\n",
    "    new_annotation = []\n",
    "    gt_annotations = image_id_to_objects[file_name_to_image_id[file_name]]\n",
    "    for gt_anno in gt_annotations:\n",
    "        total+=1\n",
    "        best_fit = [0,0]\n",
    "        for item in annotation_seg[file_name]:\n",
    "            bbox_gt = {'x1':gt_anno['bbox'][0], 'x2':gt_anno['bbox'][0]+gt_anno['bbox'][2], 'y1':gt_anno['bbox'][1], 'y2':gt_anno['bbox'][1]+gt_anno['bbox'][3]}\n",
    "            bbox_seg = {'x1':item['bbox'][0], 'x2':item['bbox'][0]+item['bbox'][2], 'y1':item['bbox'][1], 'y2':item['bbox'][1]+item['bbox'][3]}\n",
    "            if get_iou(bbox_gt,bbox_seg)>max(0.65,best_fit[0]):\n",
    "                best_fit[1]=[gt_anno['category_id']]\n",
    "                best_fit[1].extend(item['segmentation'])\n",
    "                best_fit[0]=get_iou(bbox_gt,bbox_seg)\n",
    "        if best_fit[0]>0:\n",
    "            category_statistics[best_fit[1][0]]+=1\n",
    "            found+=1\n",
    "            new_annotation.append(best_fit[1])\n",
    "    if len(new_annotation)>0:\n",
    "        to_write[file_name.split('.')[0]]=copy.deepcopy(new_annotation)\n",
    "        \n",
    "    \n",
    "print(\"found items:\",found)\n",
    "print(\"fail to find:\",total-found)"
   ]
  },
  {
   "cell_type": "code",
   "execution_count": 30,
   "id": "31967f5f",
   "metadata": {},
   "outputs": [
    {
     "name": "stderr",
     "output_type": "stream",
     "text": [
      "100%|█████████████████████████████████████| 17732/17732 [31:08<00:00,  9.49it/s]\n"
     ]
    }
   ],
   "source": [
    "import shutil\n",
    "dst_dir = '/media/anbang/Crucial X6/haihua_garbage_dataset/haihua_custom/train/'\n",
    "for file_id in tqdm.tqdm(to_write.keys()):\n",
    "    for item in to_write[file_id]:\n",
    "        if len(item)<=4:\n",
    "            print(file_id)\n",
    "    s = '\\n'.join([' '.join([str(t) for t in s_]) for s_ in to_write[file_id]])\n",
    "    with open(base_dir+'images_withoutrect/%s.txt'%file_id, 'w') as f:\n",
    "        f.write(s)\n",
    "    shutil.copyfile(base_dir+'images_withoutrect/%s.txt'%file_id,dst_dir+file_id+'.txt')\n",
    "    shutil.copyfile(base_dir+'images_withoutrect/%s.png'%file_id,dst_dir+file_id+'.png')"
   ]
  },
  {
   "cell_type": "code",
   "execution_count": 29,
   "id": "fa80aee4",
   "metadata": {},
   "outputs": [
    {
     "data": {
      "text/plain": [
       "defaultdict(int,\n",
       "            {172: 139,\n",
       "             196: 193,\n",
       "             178: 120,\n",
       "             46: 160,\n",
       "             171: 86,\n",
       "             136: 67,\n",
       "             180: 175,\n",
       "             181: 163,\n",
       "             7: 177,\n",
       "             128: 116,\n",
       "             81: 37,\n",
       "             38: 104,\n",
       "             132: 45,\n",
       "             4: 141,\n",
       "             59: 87,\n",
       "             57: 116,\n",
       "             29: 183,\n",
       "             35: 137,\n",
       "             187: 164,\n",
       "             83: 127,\n",
       "             165: 150,\n",
       "             37: 179,\n",
       "             94: 153,\n",
       "             27: 202,\n",
       "             93: 31,\n",
       "             195: 152,\n",
       "             47: 152,\n",
       "             79: 103,\n",
       "             106: 75,\n",
       "             56: 129,\n",
       "             182: 144,\n",
       "             8: 178,\n",
       "             163: 134,\n",
       "             179: 166,\n",
       "             108: 153,\n",
       "             63: 60,\n",
       "             1: 141,\n",
       "             85: 126,\n",
       "             100: 100,\n",
       "             153: 103,\n",
       "             185: 40,\n",
       "             43: 181,\n",
       "             13: 171,\n",
       "             16: 101,\n",
       "             55: 161,\n",
       "             14: 158,\n",
       "             28: 186,\n",
       "             26: 142,\n",
       "             80: 33,\n",
       "             40: 126,\n",
       "             148: 134,\n",
       "             72: 81,\n",
       "             10: 201,\n",
       "             15: 157,\n",
       "             141: 154,\n",
       "             198: 166,\n",
       "             45: 108,\n",
       "             76: 71,\n",
       "             111: 200,\n",
       "             69: 105,\n",
       "             120: 66,\n",
       "             122: 34,\n",
       "             60: 171,\n",
       "             5: 107,\n",
       "             190: 124,\n",
       "             78: 78,\n",
       "             61: 52,\n",
       "             183: 97,\n",
       "             89: 63,\n",
       "             184: 176,\n",
       "             17: 169,\n",
       "             154: 22,\n",
       "             158: 168,\n",
       "             130: 129,\n",
       "             50: 58,\n",
       "             25: 106,\n",
       "             52: 158,\n",
       "             145: 104,\n",
       "             114: 72,\n",
       "             116: 124,\n",
       "             170: 145,\n",
       "             167: 122,\n",
       "             105: 27,\n",
       "             164: 189,\n",
       "             95: 161,\n",
       "             107: 160,\n",
       "             99: 46,\n",
       "             166: 21,\n",
       "             149: 38,\n",
       "             65: 168,\n",
       "             12: 149,\n",
       "             18: 127,\n",
       "             194: 79,\n",
       "             112: 96,\n",
       "             197: 124,\n",
       "             44: 98,\n",
       "             9: 165,\n",
       "             160: 200,\n",
       "             144: 135,\n",
       "             118: 78,\n",
       "             200: 148,\n",
       "             161: 178,\n",
       "             140: 117,\n",
       "             70: 34,\n",
       "             103: 69,\n",
       "             101: 51,\n",
       "             176: 117,\n",
       "             3: 93,\n",
       "             203: 128,\n",
       "             64: 142,\n",
       "             177: 132,\n",
       "             39: 174,\n",
       "             117: 93,\n",
       "             48: 147,\n",
       "             88: 29,\n",
       "             20: 116,\n",
       "             19: 81,\n",
       "             115: 33,\n",
       "             125: 109,\n",
       "             62: 150,\n",
       "             139: 71,\n",
       "             109: 58,\n",
       "             131: 73,\n",
       "             123: 62,\n",
       "             11: 52,\n",
       "             41: 95,\n",
       "             6: 172,\n",
       "             97: 40,\n",
       "             201: 80,\n",
       "             119: 90,\n",
       "             126: 71,\n",
       "             90: 34,\n",
       "             82: 32,\n",
       "             137: 120,\n",
       "             204: 49,\n",
       "             138: 110,\n",
       "             110: 96,\n",
       "             193: 42,\n",
       "             54: 38,\n",
       "             21: 20,\n",
       "             202: 40,\n",
       "             134: 16,\n",
       "             113: 54,\n",
       "             186: 63,\n",
       "             146: 108,\n",
       "             84: 35,\n",
       "             92: 134,\n",
       "             73: 60,\n",
       "             143: 19,\n",
       "             2: 122,\n",
       "             152: 36,\n",
       "             66: 17,\n",
       "             104: 19,\n",
       "             188: 81,\n",
       "             127: 43,\n",
       "             192: 89,\n",
       "             162: 110,\n",
       "             199: 51,\n",
       "             135: 143,\n",
       "             150: 45,\n",
       "             42: 67,\n",
       "             51: 70,\n",
       "             68: 67,\n",
       "             74: 94,\n",
       "             157: 67,\n",
       "             98: 21,\n",
       "             49: 17,\n",
       "             129: 24,\n",
       "             91: 18,\n",
       "             30: 30,\n",
       "             71: 11,\n",
       "             151: 16,\n",
       "             58: 16,\n",
       "             31: 3,\n",
       "             191: 7,\n",
       "             124: 10,\n",
       "             142: 19,\n",
       "             169: 5,\n",
       "             156: 21,\n",
       "             133: 29,\n",
       "             22: 28,\n",
       "             87: 3,\n",
       "             67: 6,\n",
       "             159: 2})"
      ]
     },
     "execution_count": 29,
     "metadata": {},
     "output_type": "execute_result"
    }
   ],
   "source": [
    "category_statistics"
   ]
  },
  {
   "cell_type": "code",
   "execution_count": 56,
   "id": "cca5cdab",
   "metadata": {},
   "outputs": [
    {
     "name": "stdout",
     "output_type": "stream",
     "text": [
      "2988\n",
      "2988\n",
      "14240\n"
     ]
    }
   ],
   "source": [
    "print(len(glob.glob(base_dir+'images_withoutrect/*.txt')))\n",
    "print(len(to_write))\n",
    "print(len(glob.glob(dst_dir+'*')))"
   ]
  },
  {
   "cell_type": "code",
   "execution_count": 55,
   "id": "130e6334",
   "metadata": {},
   "outputs": [],
   "source": [
    "import glob\n",
    "import shutil\n",
    "import random\n",
    "val_dir = '/media/anbang/Crucial X6/haihua_garbage_dataset/haihua_custom/val/'\n",
    "file_list = glob.glob(dst_dir+'*.txt')\n",
    "random.shuffle(file_list)\n",
    "for txt_file in file_list[:100]:\n",
    "    shutil.move(txt_file,val_dir+txt_file.split('/')[-1])\n",
    "    png_file = str(txt_file).replace('.txt','.png')\n",
    "    shutil.move(png_file,val_dir+png_file.split('/')[-1])"
   ]
  },
  {
   "cell_type": "code",
   "execution_count": 1,
   "id": "62c2c747",
   "metadata": {},
   "outputs": [
    {
     "name": "stdout",
     "output_type": "stream",
     "text": [
      "7\n"
     ]
    }
   ],
   "source": [
    "import glob\n",
    "import shutil\n",
    "import random\n",
    "val_dir = '/media/anbang/Crucial X6/haihua_garbage_dataset/haihua_custom/val/'\n",
    "train_file_list = [s.split('/')[-1] for s in glob.glob('/media/anbang/Crucial X6/haihua_garbage_dataset/haihua_custom/train/'+'*.png')]\n",
    "all_file_list = [s.split('/')[-1] for s in glob.glob('/media/anbang/Crucial X6/haihua_garbage_dataset/complex_open_data/train/images/datasets/coco/train2017/images_withoutrect/'+'*.png')]\n",
    "test_file_list = list(set(all_file_list)-set(train_file_list))\n",
    "print(len(test_file_list))\n",
    "for file in test_file_list:\n",
    "    shutil.move('/media/anbang/Crucial X6/haihua_garbage_dataset/complex_open_data/train/images/datasets/coco/train2017/images_withoutrect/'+file,val_dir+file)\n",
    "    "
   ]
  },
  {
   "cell_type": "code",
   "execution_count": 3,
   "id": "6f994c03",
   "metadata": {},
   "outputs": [
    {
     "data": {
      "text/plain": [
       "2999"
      ]
     },
     "execution_count": 3,
     "metadata": {},
     "output_type": "execute_result"
    }
   ],
   "source": [
    "len(all_file_list)"
   ]
  },
  {
   "cell_type": "code",
   "execution_count": 7,
   "id": "986de796",
   "metadata": {},
   "outputs": [],
   "source": [
    "for file_path in glob.glob('/media/anbang/Crucial X6/haihua_garbage_dataset/single_data/images_withoutrect/images_withoutrect/*.json'):\n",
    "    try:\n",
    "        os.remove(file_path)\n",
    "    except OSError as e:\n",
    "        print(\"Error: %s : %s\" % (file_path, e.strerror))"
   ]
  },
  {
   "cell_type": "code",
   "execution_count": 11,
   "id": "e344ead3",
   "metadata": {},
   "outputs": [
    {
     "name": "stderr",
     "output_type": "stream",
     "text": [
      "100%|█████████████████████████████████████| 48136/48136 [14:43<00:00, 54.46it/s]\n"
     ]
    }
   ],
   "source": [
    "hist= []\n",
    "for image_file in tqdm.tqdm(annotation_seg.keys()):\n",
    "    with open('/media/anbang/Crucial X6/haihua_garbage_dataset/single_data/images_withoutrect/images_withoutrect/'+image_file.replace('.png','.txt'), 'w') as f:\n",
    "        s = \"\"\n",
    "        for i,item in enumerate(annotation_seg[image_file]):\n",
    "            if i!=0:\n",
    "                s+='\\n'\n",
    "            category = image_id_to_category[file_name_to_image_id[image_file]]\n",
    "            hist.append(category)\n",
    "            s+=str(category)+' '+' '.join([str(t) for t in item])\n",
    "        f.write(s)\n",
    "    \n",
    "        "
   ]
  },
  {
   "cell_type": "code",
   "execution_count": 22,
   "id": "67e30e57",
   "metadata": {},
   "outputs": [
    {
     "name": "stdout",
     "output_type": "stream",
     "text": [
      "29442\n",
      "4129\n"
     ]
    }
   ],
   "source": [
    "import os\n",
    "l1 = glob.glob('/media/anbang/Crucial X6/haihua_garbage_dataset/single_data/images_withoutrect/images_withoutrect/*.txt')\n",
    "l2 = [s.replace('.txt','.png') for s in l1]\n",
    "l3 = glob.glob('/media/anbang/Crucial X6/haihua_garbage_dataset/single_data/images_withoutrect/images_withoutrect/*.png')\n",
    "rem = list(set(l3)-set(l3).intersection(set(l2)))\n",
    "print(len(rem))\n",
    "for file_path in rem:\n",
    "    try:\n",
    "        os.remove(file_path)\n",
    "    except OSError as e:\n",
    "        print(\"Error: %s : %s\" % (file_path, e.strerror))\n",
    "\n",
    "\n",
    "        \n",
    "\n",
    "l1 = glob.glob('/media/anbang/Crucial X6/haihua_garbage_dataset/single_data/images_withoutrect/images_withoutrect/*.txt')\n",
    "l3 = glob.glob('/media/anbang/Crucial X6/haihua_garbage_dataset/single_data/images_withoutrect/images_withoutrect/*.png')\n",
    "l2 = [s.replace('.png','.txt') for s in l3]\n",
    "rem = list(set(l1)-set(l1).intersection(set(l2)))\n",
    "print(len(rem))\n",
    "\n",
    "\n",
    "for file_path in rem:\n",
    "    try:\n",
    "        os.remove(file_path)\n",
    "    except OSError as e:\n",
    "        print(\"Error: %s : %s\" % (file_path, e.strerror))\n",
    "\n"
   ]
  },
  {
   "cell_type": "code",
   "execution_count": 26,
   "id": "7604450b",
   "metadata": {},
   "outputs": [
    {
     "name": "stdout",
     "output_type": "stream",
     "text": [
      "44007\n",
      "44007\n"
     ]
    }
   ],
   "source": [
    "print(len(glob.glob('/media/anbang/Crucial X6/haihua_garbage_dataset/single_data/images_withoutrect/images_withoutrect/*.txt')))\n",
    "print(len(glob.glob('/media/anbang/Crucial X6/haihua_garbage_dataset/single_data/images_withoutrect/images_withoutrect/*.png')))"
   ]
  },
  {
   "cell_type": "code",
   "execution_count": 27,
   "id": "6ac7637f",
   "metadata": {},
   "outputs": [
    {
     "data": {
      "text/plain": [
       "[{'id': 1, 'name': '瓜子壳'},\n",
       " {'id': 2, 'name': '核桃'},\n",
       " {'id': 3, 'name': '花生壳'},\n",
       " {'id': 4, 'name': '毛豆壳'},\n",
       " {'id': 5, 'name': '西瓜子'},\n",
       " {'id': 6, 'name': '枣核'},\n",
       " {'id': 7, 'name': '话梅核'},\n",
       " {'id': 8, 'name': '苹果皮'},\n",
       " {'id': 9, 'name': '柿子皮'},\n",
       " {'id': 10, 'name': '西瓜皮'},\n",
       " {'id': 11, 'name': '香蕉皮'},\n",
       " {'id': 12, 'name': '柚子皮'},\n",
       " {'id': 13, 'name': '荔枝壳'},\n",
       " {'id': 14, 'name': '芒果皮'},\n",
       " {'id': 15, 'name': '苹果核'},\n",
       " {'id': 16, 'name': '干果'},\n",
       " {'id': 17, 'name': '桔子皮'},\n",
       " {'id': 18, 'name': '饼干'},\n",
       " {'id': 19, 'name': '面包'},\n",
       " {'id': 20, 'name': '糖果'},\n",
       " {'id': 21, 'name': '宠物饲料'},\n",
       " {'id': 22, 'name': '风干食品'},\n",
       " {'id': 23, 'name': '蜜饯'},\n",
       " {'id': 24, 'name': '肉干'},\n",
       " {'id': 25, 'name': '冲泡饮料粉'},\n",
       " {'id': 26, 'name': '奶酪'},\n",
       " {'id': 27, 'name': '罐头'},\n",
       " {'id': 28, 'name': '糕饼'},\n",
       " {'id': 29, 'name': '薯片'},\n",
       " {'id': 30, 'name': '树叶'},\n",
       " {'id': 31, 'name': '杂草'},\n",
       " {'id': 32, 'name': '绿植'},\n",
       " {'id': 33, 'name': '鲜花'},\n",
       " {'id': 34, 'name': '豆类'},\n",
       " {'id': 35, 'name': '动物内脏'},\n",
       " {'id': 36, 'name': '绿豆饭'},\n",
       " {'id': 37, 'name': '谷类及加工物'},\n",
       " {'id': 38, 'name': '贝类去硬壳'},\n",
       " {'id': 39, 'name': '虾'},\n",
       " {'id': 40, 'name': '面食'},\n",
       " {'id': 41, 'name': '肉类'},\n",
       " {'id': 42, 'name': '五谷杂粮'},\n",
       " {'id': 43, 'name': '排骨-小肋排'},\n",
       " {'id': 44, 'name': '鸡'},\n",
       " {'id': 45, 'name': '鸡骨头'},\n",
       " {'id': 46, 'name': '螺蛳'},\n",
       " {'id': 47, 'name': '鸭'},\n",
       " {'id': 48, 'name': '鱼'},\n",
       " {'id': 49, 'name': '菜根'},\n",
       " {'id': 50, 'name': '菜叶'},\n",
       " {'id': 51, 'name': '菌菇类'},\n",
       " {'id': 52, 'name': '鱼鳞'},\n",
       " {'id': 53, 'name': '调料'},\n",
       " {'id': 54, 'name': '茶叶渣'},\n",
       " {'id': 55, 'name': '咖啡渣'},\n",
       " {'id': 56, 'name': '粽子'},\n",
       " {'id': 57, 'name': '动物蹄'},\n",
       " {'id': 58, 'name': '小龙虾'},\n",
       " {'id': 59, 'name': '蟹壳'},\n",
       " {'id': 60, 'name': '酱料'},\n",
       " {'id': 61, 'name': '鱼骨头'},\n",
       " {'id': 62, 'name': '蛋壳'},\n",
       " {'id': 63, 'name': '中药材'},\n",
       " {'id': 64, 'name': '中药渣'},\n",
       " {'id': 65, 'name': '镜子'},\n",
       " {'id': 66, 'name': '玻璃制品'},\n",
       " {'id': 67, 'name': '窗玻璃'},\n",
       " {'id': 68, 'name': '碎玻璃片'},\n",
       " {'id': 69, 'name': '化妆品玻璃瓶'},\n",
       " {'id': 70, 'name': '食品及日用品玻璃瓶罐'},\n",
       " {'id': 71, 'name': '保温杯'},\n",
       " {'id': 72, 'name': '玻璃杯'},\n",
       " {'id': 73, 'name': '图书期刊'},\n",
       " {'id': 74, 'name': '报纸'},\n",
       " {'id': 75, 'name': '食品外包装盒'},\n",
       " {'id': 76, 'name': '鞋盒'},\n",
       " {'id': 77, 'name': '利乐包'},\n",
       " {'id': 78, 'name': '广告单'},\n",
       " {'id': 79, 'name': '打印纸'},\n",
       " {'id': 80, 'name': '购物纸袋'},\n",
       " {'id': 81, 'name': '日历'},\n",
       " {'id': 82, 'name': '快递纸袋'},\n",
       " {'id': 83, 'name': '信封'},\n",
       " {'id': 84, 'name': '烟盒'},\n",
       " {'id': 85, 'name': '易拉罐'},\n",
       " {'id': 86, 'name': '金属制品'},\n",
       " {'id': 87, 'name': '吸铁石'},\n",
       " {'id': 88, 'name': '铝制品'},\n",
       " {'id': 89, 'name': '金属瓶罐'},\n",
       " {'id': 90, 'name': '金属工具'},\n",
       " {'id': 91, 'name': '罐头盒'},\n",
       " {'id': 92, 'name': '勺子'},\n",
       " {'id': 93, 'name': '菜刀'},\n",
       " {'id': 94, 'name': '叉子'},\n",
       " {'id': 95, 'name': '锅'},\n",
       " {'id': 96, 'name': '金属筷子'},\n",
       " {'id': 97, 'name': '数据线'},\n",
       " {'id': 98, 'name': '塑料玩具'},\n",
       " {'id': 99, 'name': '矿泉水瓶'},\n",
       " {'id': 100, 'name': '塑料泡沫'},\n",
       " {'id': 101, 'name': '塑料包装'},\n",
       " {'id': 102, 'name': '硬塑料'},\n",
       " {'id': 103, 'name': '一次性塑料餐盒餐具'},\n",
       " {'id': 104, 'name': '电线'},\n",
       " {'id': 105, 'name': '塑料衣架'},\n",
       " {'id': 106, 'name': '密胺餐具'},\n",
       " {'id': 107, 'name': '亚克力板'},\n",
       " {'id': 108, 'name': 'PVC管'},\n",
       " {'id': 109, 'name': '插座'},\n",
       " {'id': 110, 'name': '化妆品塑料瓶'},\n",
       " {'id': 111, 'name': '篮球'},\n",
       " {'id': 112, 'name': '足球'},\n",
       " {'id': 113, 'name': 'KT板'},\n",
       " {'id': 114, 'name': '食品塑料盒'},\n",
       " {'id': 115, 'name': '食用油桶'},\n",
       " {'id': 116, 'name': '塑料杯'},\n",
       " {'id': 117, 'name': '塑料盆'},\n",
       " {'id': 118, 'name': '一次性餐盒'},\n",
       " {'id': 119, 'name': '废弃衣服'},\n",
       " {'id': 120, 'name': '鞋'},\n",
       " {'id': 121, 'name': '碎布'},\n",
       " {'id': 122, 'name': '书包'},\n",
       " {'id': 123, 'name': '床上用品'},\n",
       " {'id': 124, 'name': '棉被'},\n",
       " {'id': 125, 'name': '丝绸手绢'},\n",
       " {'id': 126, 'name': '枕头'},\n",
       " {'id': 127, 'name': '毛绒玩具'},\n",
       " {'id': 128, 'name': '皮带'},\n",
       " {'id': 129, 'name': '电路板'},\n",
       " {'id': 130, 'name': '充电宝'},\n",
       " {'id': 131, 'name': '木制品'},\n",
       " {'id': 132, 'name': '优盘'},\n",
       " {'id': 133, 'name': '灯管灯泡'},\n",
       " {'id': 134, 'name': '节能灯'},\n",
       " {'id': 135, 'name': '二极管'},\n",
       " {'id': 136, 'name': '纽扣电池'},\n",
       " {'id': 137, 'name': '手机电池'},\n",
       " {'id': 138, 'name': '镍镉电池'},\n",
       " {'id': 139, 'name': '锂电池'},\n",
       " {'id': 140, 'name': '蓄电池'},\n",
       " {'id': 141, 'name': '胶卷'},\n",
       " {'id': 142, 'name': '照片'},\n",
       " {'id': 143, 'name': '指甲油瓶'},\n",
       " {'id': 144, 'name': 'X光片'},\n",
       " {'id': 145, 'name': '农药瓶'},\n",
       " {'id': 146, 'name': '杀虫剂及罐'},\n",
       " {'id': 147, 'name': '蜡烛'},\n",
       " {'id': 148, 'name': '墨盒'},\n",
       " {'id': 149, 'name': '染发剂壳'},\n",
       " {'id': 150, 'name': '消毒液瓶'},\n",
       " {'id': 151, 'name': '油漆桶'},\n",
       " {'id': 152, 'name': '药品包装'},\n",
       " {'id': 153, 'name': '药瓶'},\n",
       " {'id': 154, 'name': '废弃针管'},\n",
       " {'id': 155, 'name': '输液管'},\n",
       " {'id': 156, 'name': '口服液瓶'},\n",
       " {'id': 157, 'name': '眼药水瓶'},\n",
       " {'id': 158, 'name': '水银温度计'},\n",
       " {'id': 159, 'name': '水银血压计'},\n",
       " {'id': 160, 'name': '胶囊'},\n",
       " {'id': 161, 'name': '药片'},\n",
       " {'id': 162, 'name': '固体杀虫剂'},\n",
       " {'id': 163, 'name': '甘蔗皮'},\n",
       " {'id': 164, 'name': '坚果壳'},\n",
       " {'id': 165, 'name': '橡皮泥'},\n",
       " {'id': 166, 'name': '毛发'},\n",
       " {'id': 167, 'name': '棉签'},\n",
       " {'id': 168, 'name': '创可贴'},\n",
       " {'id': 169, 'name': '口红'},\n",
       " {'id': 170, 'name': '笔'},\n",
       " {'id': 171, 'name': '纸巾'},\n",
       " {'id': 172, 'name': '胶带'},\n",
       " {'id': 173, 'name': '湿巾'},\n",
       " {'id': 174, 'name': '水彩笔'},\n",
       " {'id': 175, 'name': '打火机'},\n",
       " {'id': 176, 'name': '防碎气泡膜'},\n",
       " {'id': 177, 'name': '榴莲壳'},\n",
       " {'id': 178, 'name': '睫毛膏'},\n",
       " {'id': 179, 'name': '眼影'},\n",
       " {'id': 180, 'name': '仓鼠浴沙'},\n",
       " {'id': 181, 'name': '大骨棒'},\n",
       " {'id': 182, 'name': '旧毛巾'},\n",
       " {'id': 183, 'name': '竹制品'},\n",
       " {'id': 184, 'name': '粉笔'},\n",
       " {'id': 185, 'name': '一次性口罩'},\n",
       " {'id': 186, 'name': '一次性手套'},\n",
       " {'id': 187, 'name': '粉底液'},\n",
       " {'id': 188, 'name': '灰土'},\n",
       " {'id': 189, 'name': '尼龙制品'},\n",
       " {'id': 190, 'name': '尿片'},\n",
       " {'id': 191, 'name': '雨伞'},\n",
       " {'id': 192, 'name': '带胶制品'},\n",
       " {'id': 193, 'name': '牙膏皮'},\n",
       " {'id': 194, 'name': '狗尿布'},\n",
       " {'id': 195, 'name': '椰子壳'},\n",
       " {'id': 196, 'name': '粉扑'},\n",
       " {'id': 197, 'name': '破碗碟'},\n",
       " {'id': 198, 'name': '陶瓷'},\n",
       " {'id': 199, 'name': '卫生纸'},\n",
       " {'id': 200, 'name': '烟头'},\n",
       " {'id': 201, 'name': '假睫毛'},\n",
       " {'id': 202, 'name': '猫砂'},\n",
       " {'id': 203, 'name': '牙刷'},\n",
       " {'id': 204, 'name': '玉米棒'}]"
      ]
     },
     "execution_count": 27,
     "metadata": {},
     "output_type": "execute_result"
    }
   ],
   "source": [
    "annotation_haihua['categories']"
   ]
  },
  {
   "cell_type": "code",
   "execution_count": 28,
   "id": "319a7b29",
   "metadata": {},
   "outputs": [
    {
     "name": "stderr",
     "output_type": "stream",
     "text": [
      "Matplotlib created a temporary config/cache directory at /tmp/matplotlib-8sd0yqs0 because the default path (/home/anbang/.config/matplotlib) is not a writable directory; it is highly recommended to set the MPLCONFIGDIR environment variable to a writable directory, in particular to speed up the import of Matplotlib and to better support multiprocessing.\n"
     ]
    },
    {
     "data": {
      "image/png": "[encoded data removed]",
      "text/plain": [
       "<Figure size 432x288 with 1 Axes>"
      ]
     },
     "metadata": {
      "needs_background": "light"
     },
     "output_type": "display_data"
    }
   ],
   "source": [
    "import matplotlib.pyplot as plt\n",
    "\n",
    "plt.hist(hist,bins=204)\n",
    "plt.show()"
   ]
  },
  {
   "cell_type": "code",
   "execution_count": 33,
   "id": "4502b30e",
   "metadata": {},
   "outputs": [
    {
     "name": "stderr",
     "output_type": "stream",
     "text": [
      "100%|███████████████████████████████████████| 1275/1275 [01:41<00:00, 12.60it/s]\n"
     ]
    }
   ],
   "source": [
    "import shutil\n",
    "\n",
    "nc = 60\n",
    "\n",
    "TACO_labels = ['Aluminium foil', 'Battery', 'Aluminium blister pack', 'Carded blister pack', 'Other plastic bottle', 'Clear plastic bottle', 'Glass bottle', 'Plastic bottle cap', 'Metal bottle cap', 'Broken glass', 'Food Can', 'Aerosol', 'Drink can', 'Toilet tube', 'Other carton', 'Egg carton', 'Drink carton', 'Corrugated carton', 'Meal carton', 'Pizza box', 'Paper cup', 'Disposable plastic cup', 'Foam cup', 'Glass cup', 'Other plastic cup', 'Food waste', 'Glass jar', 'Plastic lid', 'Metal lid', 'Other plastic', 'Magazine paper', 'Tissues', 'Wrapping paper', 'Normal paper', 'Paper bag', 'Plastified paper bag', 'Plastic film', 'Six pack rings', 'Garbage bag', 'Other plastic wrapper', 'Single-use carrier bag', 'Polypropylene bag', 'Crisp packet', 'Spread tub', 'Tupperware', 'Disposable food container', 'Foam food container', 'Other plastic container', 'Plastic glooves', 'Plastic utensils', 'Pop tab', 'Rope & strings', 'Scrap metal', 'Shoe', 'Squeezable tube', 'Plastic straw', 'Paper straw', 'Styrofoam piece', 'Unlabeled litter', 'Cigarette']\n",
    "TACO_id_to_label = {}\n",
    "for i,l in enumerate(TACO_labels):\n",
    "    TACO_id_to_label[i]=l\n",
    "map_TACO_to_haihua = {'Aluminium foil':88,'Battery':138,'Aluminium blister pack':101,\n",
    "                      'Other plastic bottle':99,'Clear plastic bottle':99,'Glass bottle':77,\n",
    "                      'Broken glass':68,'Food Can':27,'Drink can':85,'Egg carton':103,\n",
    "                      'Meal carton':118,'Disposable plastic cup':116,'Foam cup':116,'Glass cup':72,\n",
    "                      'Other plastic cup':116,'Glass jar':70,'Magazine paper':73,'Tissues':171,\n",
    "                      'Paper bag':80,'Plastified paper bag':80, 'Plastic film':101,'Foam food container':103,\n",
    "                      'Cigarette':200}\n",
    "images_JPG = glob.glob('/home/anbang/free_study/Auto-Annotate/TACO/TACO/data/train/*.JPG')\n",
    "images_jpg = glob.glob('/home/anbang/free_study/Auto-Annotate/TACO/TACO/data/train/*.jpg')\n",
    "\n",
    "for label_file in tqdm.tqdm(glob.glob('/home/anbang/free_study/Auto-Annotate/TACO/TACO/data/train/*.txt')):\n",
    "    with open(label_file) as f:\n",
    "        s = f.read()\n",
    "        s_ = \"\"\n",
    "        for i,t in enumerate(s.split('\\n')):\n",
    "            tag = TACO_id_to_label[int(t.split(' ')[0])]\n",
    "            if tag in map_TACO_to_haihua:\n",
    "                if i!=0:\n",
    "                    s_+='\\n'\n",
    "                s_+=str(map_TACO_to_haihua[tag])+' '+' '.join(t.split(' ')[1:])\n",
    "        if s_==\"\":\n",
    "            continue\n",
    "        image_id = label_file.split('/')[-1].replace('.txt','')\n",
    "        with open('/media/anbang/Crucial X6/haihua_garbage_dataset/single_data/images_withoutrect/images_withoutrect/%s.txt'%image_id,'w') as f_:\n",
    "            f_.write(s_)\n",
    "        if '/home/anbang/free_study/Auto-Annotate/TACO/TACO/data/train/%s.JPG'%image_id in images_JPG:\n",
    "            shutil.copyfile('/home/anbang/free_study/Auto-Annotate/TACO/TACO/data/train/%s.JPG'%image_id, '/media/anbang/Crucial X6/haihua_garbage_dataset/single_data/images_withoutrect/images_withoutrect/%s.JPG'%image_id)\n",
    "        else:\n",
    "            shutil.copyfile('/home/anbang/free_study/Auto-Annotate/TACO/TACO/data/train/%s.jpg'%image_id, '/media/anbang/Crucial X6/haihua_garbage_dataset/single_data/images_withoutrect/images_withoutrect/%s.jpg'%image_id)\n",
    "        \n",
    "        \n",
    "        \n",
    "        "
   ]
  },
  {
   "cell_type": "code",
   "execution_count": 35,
   "id": "57bc9294",
   "metadata": {},
   "outputs": [
    {
     "name": "stdout",
     "output_type": "stream",
     "text": [
      "['瓜子壳', '核桃', '花生壳', '毛豆壳', '西瓜子', '枣核', '话梅核', '苹果皮', '柿子皮', '西瓜皮', '香蕉皮', '柚子皮', '荔枝壳', '芒果皮', '苹果核', '干果', '桔子皮', '饼干', '面包', '糖果', '宠物饲料', '风干食品', '蜜饯', '肉干', '冲泡饮料粉', '奶酪', '罐头', '糕饼', '薯片', '树叶', '杂草', '绿植', '鲜花', '豆类', '动物内脏', '绿豆饭', '谷类及加工物', '贝类去硬壳', '虾', '面食', '肉类', '五谷杂粮', '排骨-小肋排', '鸡', '鸡骨头', '螺蛳', '鸭', '鱼', '菜根', '菜叶', '菌菇类', '鱼鳞', '调料', '茶叶渣', '咖啡渣', '粽子', '动物蹄', '小龙虾', '蟹壳', '酱料', '鱼骨头', '蛋壳', '中药材', '中药渣', '镜子', '玻璃制品', '窗玻璃', '碎玻璃片', '化妆品玻璃瓶', '食品及日用品玻璃瓶罐', '保温杯', '玻璃杯', '图书期刊', '报纸', '食品外包装盒', '鞋盒', '利乐包', '广告单', '打印纸', '购物纸袋', '日历', '快递纸袋', '信封', '烟盒', '易拉罐', '金属制品', '吸铁石', '铝制品', '金属瓶罐', '金属工具', '罐头盒', '勺子', '菜刀', '叉子', '锅', '金属筷子', '数据线', '塑料玩具', '矿泉水瓶', '塑料泡沫', '塑料包装', '硬塑料', '一次性塑料餐盒餐具', '电线', '塑料衣架', '密胺餐具', '亚克力板', 'PVC管', '插座', '化妆品塑料瓶', '篮球', '足球', 'KT板', '食品塑料盒', '食用油桶', '塑料杯', '塑料盆', '一次性餐盒', '废弃衣服', '鞋', '碎布', '书包', '床上用品', '棉被', '丝绸手绢', '枕头', '毛绒玩具', '皮带', '电路板', '充电宝', '木制品', '优盘', '灯管灯泡', '节能灯', '二极管', '纽扣电池', '手机电池', '镍镉电池', '锂电池', '蓄电池', '胶卷', '照片', '指甲油瓶', 'X光片', '农药瓶', '杀虫剂及罐', '蜡烛', '墨盒', '染发剂壳', '消毒液瓶', '油漆桶', '药品包装', '药瓶', '废弃针管', '输液管', '口服液瓶', '眼药水瓶', '水银温度计', '水银血压计', '胶囊', '药片', '固体杀虫剂', '甘蔗皮', '坚果壳', '橡皮泥', '毛发', '棉签', '创可贴', '口红', '笔', '纸巾', '胶带', '湿巾', '水彩笔', '打火机', '防碎气泡膜', '榴莲壳', '睫毛膏', '眼影', '仓鼠浴沙', '大骨棒', '旧毛巾', '竹制品', '粉笔', '一次性口罩', '一次性手套', '粉底液', '灰土', '尼龙制品', '尿片', '雨伞', '带胶制品', '牙膏皮', '狗尿布', '椰子壳', '粉扑', '破碗碟', '陶瓷', '卫生纸', '烟头', '假睫毛', '猫砂', '牙刷', '玉米棒']\n"
     ]
    }
   ],
   "source": [
    "print([t['name'] for t in annotation_haihua['categories']])"
   ]
  },
  {
   "cell_type": "code",
   "execution_count": 36,
   "id": "7367b020",
   "metadata": {},
   "outputs": [],
   "source": [
    "import random\n",
    "training_data = glob.glob('/media/anbang/Crucial X6/haihua_garbage_dataset/single_data/images_withoutrect/images_withoutrect/*.png')\n",
    "testing = random.sample(training_data,1000)\n",
    "val = random.sample(testing,100)\n",
    "testing = list(set(testing)-set(val))\n",
    "for f in testing:\n",
    "    shutil.move(f,'/media/anbang/Crucial X6/haihua_garbage_dataset/single_data/images_withoutrect/testing/%s'%(f.split('/')[-1]))\n",
    "    shutil.move(f.replace('png','txt'),'/media/anbang/Crucial X6/haihua_garbage_dataset/single_data/images_withoutrect/testing/%s.txt'%(f.split('/')[-1].split('.')[0]))\n",
    "for f in val:\n",
    "    shutil.move(f,'/media/anbang/Crucial X6/haihua_garbage_dataset/single_data/images_withoutrect/val/%s'%(f.split('/')[-1]))\n",
    "    shutil.move(f.replace('png','txt'),'/media/anbang/Crucial X6/haihua_garbage_dataset/single_data/images_withoutrect/val/%s.txt'%(f.split('/')[-1].split('.')[0]))\n",
    "    "
   ]
  },
  {
   "cell_type": "code",
   "execution_count": 37,
   "id": "6aaad2cb",
   "metadata": {},
   "outputs": [
    {
     "data": {
      "text/plain": [
       "204"
      ]
     },
     "execution_count": 37,
     "metadata": {},
     "output_type": "execute_result"
    }
   ],
   "source": [
    "['Dummy Class','瓜子壳', '核桃', '花生壳', '毛豆壳', '西瓜子', '枣核', '话梅核', '苹果皮', '柿子皮', '西瓜皮', '香蕉皮', '柚子皮', '荔枝壳', '芒果皮', '苹果核', '干果', '桔子皮', '饼干', '面包', '糖果', '宠物饲料', '风干食品', '蜜饯', '肉干', '冲泡饮料粉', '奶酪', '罐头', '糕饼', '薯片', '树叶', '杂草', '绿植', '鲜花', '豆类', '动物内脏', '绿豆饭', '谷类及加工物', '贝类去硬壳', '虾', '面食', '肉类', '五谷杂粮', '排骨-小肋排', '鸡', '鸡骨头', '螺蛳', '鸭', '鱼', '菜根', '菜叶', '菌菇类', '鱼鳞', '调料', '茶叶渣', '咖啡渣', '粽子', '动物蹄', '小龙虾', '蟹壳', '酱料', '鱼骨头', '蛋壳', '中药材', '中药渣', '镜子', '玻璃制品', '窗玻璃', '碎玻璃片', '化妆品玻璃瓶', '食品及日用品玻璃瓶罐', '保温杯', '玻璃杯', '图书期刊', '报纸', '食品外包装盒', '鞋盒', '利乐包', '广告单', '打印纸', '购物纸袋', '日历', '快递纸袋', '信封', '烟盒', '易拉罐', '金属制品', '吸铁石', '铝制品', '金属瓶罐', '金属工具', '罐头盒', '勺子', '菜刀', '叉子', '锅', '金属筷子', '数据线', '塑料玩具', '矿泉水瓶', '塑料泡沫', '塑料包装', '硬塑料', '一次性塑料餐盒餐具', '电线', '塑料衣架', '密胺餐具', '亚克力板', 'PVC管', '插座', '化妆品塑料瓶', '篮球', '足球', 'KT板', '食品塑料盒', '食用油桶', '塑料杯', '塑料盆', '一次性餐盒', '废弃衣服', '鞋', '碎布', '书包', '床上用品', '棉被', '丝绸手绢', '枕头', '毛绒玩具', '皮带', '电路板', '充电宝', '木制品', '优盘', '灯管灯泡', '节能灯', '二极管', '纽扣电池', '手机电池', '镍镉电池', '锂电池', '蓄电池', '胶卷', '照片', '指甲油瓶', 'X光片', '农药瓶', '杀虫剂及罐', '蜡烛', '墨盒', '染发剂壳', '消毒液瓶', '油漆桶', '药品包装', '药瓶', '废弃针管', '输液管', '口服液瓶', '眼药水瓶', '水银温度计', '水银血压计', '胶囊', '药片', '固体杀虫剂', '甘蔗皮', '坚果壳', '橡皮泥', '毛发', '棉签', '创可贴', '口红', '笔', '纸巾', '胶带', '湿巾', '水彩笔', '打火机', '防碎气泡膜', '榴莲壳', '睫毛膏', '眼影', '仓鼠浴沙', '大骨棒', '旧毛巾', '竹制品', '粉笔', '一次性口罩', '一次性手套', '粉底液', '灰土', '尼龙制品', '尿片', '雨伞', '带胶制品', '牙膏皮', '狗尿布', '椰子壳', '粉扑', '破碗碟', '陶瓷', '卫生纸', '烟头', '假睫毛', '猫砂', '牙刷', '玉米棒']"
   ]
  },
  {
   "cell_type": "code",
   "execution_count": null,
   "id": "ba9aeefd",
   "metadata": {},
   "outputs": [],
   "source": []
  }
 ],
 "metadata": {
  "kernelspec": {
   "display_name": "Python 3 (ipykernel)",
   "language": "python",
   "name": "python3"
  },
  "language_info": {
   "codemirror_mode": {
    "name": "ipython",
    "version": 3
   },
   "file_extension": ".py",
   "mimetype": "text/x-python",
   "name": "python",
   "nbconvert_exporter": "python",
   "pygments_lexer": "ipython3",
   "version": "3.8.11"
  }
 },
 "nbformat": 4,
 "nbformat_minor": 5
}
